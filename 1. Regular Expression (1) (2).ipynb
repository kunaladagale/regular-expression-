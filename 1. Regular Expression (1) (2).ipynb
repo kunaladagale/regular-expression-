{
 "cells": [
  {
   "cell_type": "raw",
   "metadata": {},
   "source": [
    "Regular Expression : re\n",
    "It is a library of python which is deals with the text or string data.\n",
    "Before using any function we supposed to import re.\n",
    "It have different functions who creates a sequence of the characters/nos. which is called as regex, after that it will find out the same pattern or structure the text or string data which we have provided.\n",
    "\n",
    "Natural Language Processing:- \n",
    "cleaning a data, removing punctuations, removing stopwords\n",
    "suggesting future words(on google if we have putted half word it is taking next part)\n",
    "used in recommendation system\n",
    "Web scrapping >> Extracting the useful data from any website.\n",
    "\\d = [0-9]\n",
    "\\D =[^0-9]\n",
    "\\s = [] it put the space\n",
    "\\S = [^] Other than space\n",
    "\\w = [a-zA-Z0-9_]\n",
    "\\W = [^a-zA-Z0-9_]\n",
    "\\b = Checkin for the Starting and ending of the regex. (cheacking from forward and backward side)\n",
    "\n"
   ]
  },
  {
   "cell_type": "code",
   "execution_count": 2,
   "metadata": {},
   "outputs": [],
   "source": [
    "import re  "
   ]
  },
  {
   "cell_type": "markdown",
   "metadata": {},
   "source": [
    "mobile number\n",
    "address\n",
    "date of birth\n",
    "pan card number\n",
    "adhar card\n",
    "email id\n",
    "bank account no.\n",
    "passport no."
   ]
  },
  {
   "cell_type": "markdown",
   "metadata": {},
   "source": [
    "1) ## findall()"
   ]
  },
  {
   "cell_type": "code",
   "execution_count": 3,
   "metadata": {},
   "outputs": [
    {
     "ename": "SyntaxError",
     "evalue": "invalid syntax (584897000.py, line 1)",
     "output_type": "error",
     "traceback": [
      "\u001b[1;36m  Input \u001b[1;32mIn [3]\u001b[1;36m\u001b[0m\n\u001b[1;33m    it returns a list of elements that matches our regex or our pattern.\u001b[0m\n\u001b[1;37m       ^\u001b[0m\n\u001b[1;31mSyntaxError\u001b[0m\u001b[1;31m:\u001b[0m invalid syntax\n"
     ]
    }
   ],
   "source": [
    "it returns a list of elements that matches our regex or our pattern.\n",
    "syntax:\n",
    "    list1 = re.findall(regex, string/text)"
   ]
  },
  {
   "cell_type": "code",
   "execution_count": null,
   "metadata": {},
   "outputs": [],
   "source": [
    "import re "
   ]
  },
  {
   "cell_type": "code",
   "execution_count": null,
   "metadata": {},
   "outputs": [],
   "source": [
    "Str1 = \"My mobile number is 8956345633,6789898902\" \n",
    "output = re.findall(\"[0-9]{10}\",Str1)\n",
    "output"
   ]
  },
  {
   "cell_type": "code",
   "execution_count": null,
   "metadata": {},
   "outputs": [],
   "source": [
    "Str1 = \"My mobile number is 8956345633 ,6789898902\" # string /text\n",
    "result =re.findall(\"[0-9]{10}\",Str1)\n",
    "result"
   ]
  },
  {
   "cell_type": "code",
   "execution_count": null,
   "metadata": {},
   "outputs": [],
   "source": [
    "var1=\"my adhar no is : 5422 1652 8776 6786\"\n",
    "result = re.findall(\"[0-9]{4}\",var1)    # space is mandatory\n",
    "result\n",
    "#5422 1652 8776 6786"
   ]
  },
  {
   "cell_type": "code",
   "execution_count": 1,
   "metadata": {},
   "outputs": [
    {
     "name": "stdout",
     "output_type": "stream",
     "text": [
      "['DJLPK0268P']\n"
     ]
    }
   ],
   "source": [
    "import re\n",
    "str1 =\"my pan number is DJLPK0268P\"\n",
    "p=\"[A-z]{5}[0-9]{4}[A-Z]{1}\"\n",
    "result=re.findall(p,str1)\n",
    "print(result)\n",
    "# result = re.findall(\"[A-Z]{5}[0-9]{4}[A-Z]{1}\",str1)\n",
    "# result"
   ]
  },
  {
   "cell_type": "code",
   "execution_count": null,
   "metadata": {},
   "outputs": [],
   "source": [
    "str1 =\"my pan number is DJLPK0268P\"\n",
    "result = re.findall(\"[A-Z]{5}[0-9]{4}[A-Z]{1}\",str1)\n",
    "result"
   ]
  },
  {
   "cell_type": "code",
   "execution_count": 5,
   "metadata": {},
   "outputs": [
    {
     "name": "stdout",
     "output_type": "stream",
     "text": [
      "['5422', '1652', '8776', '6786']\n"
     ]
    },
    {
     "data": {
      "text/plain": [
       "['5422 1652 8776 6786']"
      ]
     },
     "execution_count": 5,
     "metadata": {},
     "output_type": "execute_result"
    }
   ],
   "source": [
    "var1=\"my adhar no is : 5422 1652 8776 6786\"\n",
    "p=\"[0-9]{4}\"\n",
    "result=re.findall(p,var1)\n",
    "print(result)\n",
    "#[\"5422 1652 8776 6786\"]\n",
    "result = re.findall(\"[0-9]{4} [0-9]{4} [0-9]{4} [0-9]{4}\",var1)\n",
    "result"
   ]
  },
  {
   "cell_type": "code",
   "execution_count": null,
   "metadata": {},
   "outputs": [],
   "source": [
    "var1=\"my adhar no is : 5422 1652 8776 6786\"\n",
    "result=re.findall(\"[0-9]{4}\",var1)\n",
    "result"
   ]
  },
  {
   "cell_type": "code",
   "execution_count": null,
   "metadata": {},
   "outputs": [],
   "source": [
    "import re\n",
    "str1=(\"my adhar no is 2387 6445 4735\")\n",
    "result=re.findall(\"[0-9]{4} [0-9]{4} [0-9]{4}\",str1)\n",
    "result"
   ]
  },
  {
   "cell_type": "code",
   "execution_count": null,
   "metadata": {},
   "outputs": [],
   "source": [
    "str1 = \"my pan number is DJLPK0268K,8967FGHTYK\"\n",
    "result1 =re.findall(\"[A-Z]{5}[0-9]{4}[A-Z]{1}\",str1)\n",
    "result1"
   ]
  },
  {
   "cell_type": "code",
   "execution_count": null,
   "metadata": {},
   "outputs": [],
   "source": [
    "str1 = \"my pan number is DJLPK0268K,8967FGHTYK\"\n",
    "result1 =re.findall(\"[A-Z0-9]{10}\",str1)\n",
    "result1"
   ]
  },
  {
   "cell_type": "code",
   "execution_count": 9,
   "metadata": {},
   "outputs": [
    {
     "name": "stdout",
     "output_type": "stream",
     "text": [
      "['sarikakokate29@gmail.com']\n"
     ]
    }
   ],
   "source": [
    "email = \"my eamil id is sarikakokate29@gmail.com\"\n",
    "#sarikakokate29@gmail.com\n",
    "p=\"[A-Za-z]{12}[0-9]{2}\\W{1}[a-z]{5}[.]{1}[a-z]{3}\"\n",
    "result=re.findall(p,email)\n",
    "print(result)\n",
    "# result = re.findall(\"[a-z]{12}[0-9]{2}[@]{1}[a-z]{5}[.]{1}[a-z]{3}\",email)\n",
    "# result"
   ]
  },
  {
   "cell_type": "code",
   "execution_count": 12,
   "metadata": {},
   "outputs": [
    {
     "name": "stdout",
     "output_type": "stream",
     "text": [
      "['0268DJLPKK', 'PKLK24456L', 'THYUFRY893']\n"
     ]
    },
    {
     "data": {
      "text/plain": [
       "['0268DJLPKK', 'PKLK24456L', 'THYUFRY893']"
      ]
     },
     "execution_count": 12,
     "metadata": {},
     "output_type": "execute_result"
    }
   ],
   "source": [
    "str1 = \"my pan number is 0268DJLPKK ,PKLK24456L,THYUFRY893\"\n",
    "p=\"\\w{10}\"\n",
    "result=re.findall(p,str1)\n",
    "print(result)\n",
    "result1 = re.findall(\"[A-Z0-9]{10}\",str1)\n",
    "result1"
   ]
  },
  {
   "cell_type": "code",
   "execution_count": null,
   "metadata": {},
   "outputs": [],
   "source": [
    "text = \"my email id sarikakokate29@gmail.com\"\n",
    "result2 = re.findall(\"[a-z]{12}[0-9]{2}[@]{1}[a-z]{5}[.]{1}[a-z]{3}\",text)\n",
    "result2 "
   ]
  },
  {
   "cell_type": "code",
   "execution_count": null,
   "metadata": {},
   "outputs": [],
   "source": [
    "text = \"my email id sarikakokate29@gmail.com\"\n",
    "result3 = re.findall('[A-Za-z@0-9.]{24}',text)\n",
    "result3"
   ]
  },
  {
   "cell_type": "code",
   "execution_count": null,
   "metadata": {},
   "outputs": [],
   "source": [
    "text = \"my name is sarika i am 31 years old my mobile number is 7709708941 and my alternative number is 8600809897\"\n",
    "list1 = re.findall('[0-9]{10}',text) \n",
    "print(list1)"
   ]
  },
  {
   "cell_type": "code",
   "execution_count": null,
   "metadata": {},
   "outputs": [],
   "source": [
    "text = \"\"\"my mail id is shamaltajave@gmail.com and \n",
    "          my mobile number is 9556417555 and \n",
    "          my alternate number is 8308304444. \"\"\"\n",
    "list1 = re.findall('[0-9]{10}',text) #[range/required things ]{length}  [0-9] = \\d\n",
    "list1"
   ]
  },
  {
   "cell_type": "code",
   "execution_count": null,
   "metadata": {},
   "outputs": [],
   "source": [
    "text = \"\"\"my mail id is shamaltajave@gmail.com and \n",
    "          my mobile number is 9556417555 and \n",
    "          my alternate number is 830830444. \"\"\"\n",
    "list1 = re.findall('[0-9]{10}',text)               #another number is 9 digit so it is not printed as an output\n",
    "list1"
   ]
  },
  {
   "cell_type": "code",
   "execution_count": null,
   "metadata": {},
   "outputs": [],
   "source": [
    "text = \"\"\"my mail id is shamaltajave@gmail.com and \n",
    "          my mobile number is 9556417555 and \n",
    "          my alternate number is 830830444. \"\"\"\n",
    "list1 = re.findall('[0-9]{9}',text)                   # here we have given {9} so it gives output                                                #of 9 digit number excluding last 10th digit\n",
    "list1"
   ]
  },
  {
   "cell_type": "code",
   "execution_count": null,
   "metadata": {},
   "outputs": [],
   "source": [
    "text = \"\"\"my mail id is shamaltajave@gmail.com and \n",
    "          my mobile number is 9556417555 and \n",
    "          my alternate number is 830830444. \"\"\"\n",
    "list1 = re.findall('[0-9]{2}',text) \n",
    "list1"
   ]
  },
  {
   "cell_type": "code",
   "execution_count": null,
   "metadata": {},
   "outputs": [],
   "source": [
    "text = \"\"\"my mail id is shamaltajave@gmail.com and \n",
    "          my mobile number is 9556417555 and \n",
    "          my alternate number is 830830444. \"\"\"\n",
    "list1 = re.findall('[0-9]',text) \n",
    "print(list1) # by default length is 1."
   ]
  },
  {
   "cell_type": "code",
   "execution_count": null,
   "metadata": {},
   "outputs": [],
   "source": [
    "text = \"\"\"MY mail id is shamaltajave@gmail.com and \n",
    "          my mobile number is 9556417555 and \n",
    "          my alternate number is 830830444. \"\"\"\n",
    "list1 = re.findall('[a-z]{5}',text) \n",
    "list1\n"
   ]
  },
  {
   "cell_type": "code",
   "execution_count": null,
   "metadata": {},
   "outputs": [],
   "source": [
    "text = \"\"\"MY mail id is shamaltajave@gmail.com and \n",
    "          my mobile number is 9556417555 and \n",
    "          my alternate number is 830830444. \"\"\"\n",
    "list1 = re.findall('[a-z]{2}',text) \n",
    "print(list1)"
   ]
  },
  {
   "cell_type": "code",
   "execution_count": null,
   "metadata": {},
   "outputs": [],
   "source": [
    "text = \"\"\"MY mail id is shamaltajave@gmail.com and \n",
    "          my mobile number is 9556417555 and \n",
    "          my alternate number is 830830444. \"\"\"\n",
    "list1 = re.findall('[A-Z]{2}',text)\n",
    "list1"
   ]
  },
  {
   "cell_type": "code",
   "execution_count": 4,
   "metadata": {},
   "outputs": [
    {
     "data": {
      "text/plain": [
       "['MY']"
      ]
     },
     "execution_count": 4,
     "metadata": {},
     "output_type": "execute_result"
    }
   ],
   "source": [
    "text = \"\"\"MY mail id is shamaltajave@gmail.com and \n",
    "          my Mobile number is 9556417555 and \n",
    "          my alternate number is 830830444. \"\"\"\n",
    "list1 = re.findall('[A-Z]{2}',text)\n",
    "list1"
   ]
  },
  {
   "cell_type": "code",
   "execution_count": 5,
   "metadata": {},
   "outputs": [
    {
     "data": {
      "text/plain": [
       "['M', 'Y', 'M']"
      ]
     },
     "execution_count": 5,
     "metadata": {},
     "output_type": "execute_result"
    }
   ],
   "source": [
    "text = \"\"\"MY mail id is shamaltajave@gmail.com and \n",
    "          my Mobile number is 9556417555 and \n",
    "          my alternate number is 830830444. \"\"\"\n",
    "list1 = re.findall('[A-Z]',text)\n",
    "list1"
   ]
  },
  {
   "cell_type": "code",
   "execution_count": 6,
   "metadata": {},
   "outputs": [
    {
     "name": "stdout",
     "output_type": "stream",
     "text": [
      "['M', 'Y', 'm', 'a', 'i', 'l', 'i', 'd', 'i', 's', 's', 'h', 'a', 'm', 'a', 'l', 't', 'a', 'j', 'a', 'v', 'e', 'g', 'm', 'a', 'i', 'l', 'c', 'o', 'm', 'a', 'n', 'd', 'm', 'y', 'M', 'o', 'b', 'i', 'l', 'e', 'n', 'u', 'm', 'b', 'e', 'r', 'i', 's', 'a', 'n', 'd', 'm', 'y', 'a', 'l', 't', 'e', 'r', 'n', 'a', 't', 'e', 'n', 'u', 'm', 'b', 'e', 'r', 'i', 's']\n"
     ]
    }
   ],
   "source": [
    "text = \"\"\"MY mail id is shamaltajave@gmail.com and \n",
    "          my Mobile number is 9556417555 and \n",
    "          my alternate number is 830830444. \"\"\"\n",
    "list1 = re.findall('[A-Za-z]',text)\n",
    "print(list1)"
   ]
  },
  {
   "cell_type": "code",
   "execution_count": 7,
   "metadata": {},
   "outputs": [
    {
     "name": "stdout",
     "output_type": "stream",
     "text": [
      "['M', 'Y', 'm', 'a', 'i', 'l', 'i', 'd', 'i', 's', 's', 'h', 'a', 'm', 'a', 'l', 't', 'a', 'j', 'a', 'v', 'e', '@', 'g', 'm', 'a', 'i', 'l', '.', 'c', 'o', 'm', 'a', 'n', 'd', 'm', 'y', 'M', 'o', 'b', 'i', 'l', 'e', 'n', 'u', 'm', 'b', 'e', 'r', 'i', 's', 'a', 'n', 'd', 'm', 'y', 'a', 'l', 't', 'e', 'r', 'n', 'a', 't', 'e', 'n', 'u', 'm', 'b', 'e', 'r', 'i', 's', '.']\n"
     ]
    }
   ],
   "source": [
    "text = \"\"\"MY mail id is shamaltajave@gmail.com and \n",
    "          my Mobile number is 9556417555 and \n",
    "          my alternate number is 830830444. \"\"\"\n",
    "list1 = re.findall('[A-Za-z@.]',text)\n",
    "print(list1)"
   ]
  },
  {
   "cell_type": "code",
   "execution_count": 8,
   "metadata": {},
   "outputs": [
    {
     "name": "stdout",
     "output_type": "stream",
     "text": [
      "['M', 'Y', 'm', 'a', 'i', 'l', 'i', 'd', 'i', 's', 's', 'h', 'a', 'm', 'a', 'l', 't', 'a', 'j', 'a', 'v', 'e', '@', 'g', 'm', 'a', 'i', 'l', '.', 'c', 'o', 'm', 'a', 'n', 'd', 'm', 'y', 'M', 'o', 'b', 'i', 'l', 'e', 'n', 'u', 'm', 'b', 'e', 'r', 'i', 's', 'a', 'n', 'd', 'm', 'y', 'a', 'l', 't', 'e', 'r', 'n', 'a', 't', 'e', 'n', 'u', 'm', 'b', 'e', 'r', 'i', 's', '.']\n"
     ]
    }
   ],
   "source": [
    "text = \"\"\"MY mail id is shamaltajave@gmail.com and \n",
    "          my Mobile number is 9556417555 and \n",
    "          my alternate number is 830830444. \"\"\"\n",
    "list1 = re.findall('[A-Za-z@.]',text)\n",
    "print(list1)"
   ]
  },
  {
   "cell_type": "code",
   "execution_count": 9,
   "metadata": {},
   "outputs": [
    {
     "name": "stdout",
     "output_type": "stream",
     "text": [
      "['shamaltaja', 've@gmail.c']\n"
     ]
    }
   ],
   "source": [
    "text = \"\"\"MY mail id is shamaltajave@gmail.com and \n",
    "          my Mobile number is 9556417555 and \n",
    "          my alternate number is 830830444. \"\"\"\n",
    "list1 = re.findall('[A-Za-z@.]{10}',text)\n",
    "print(list1)"
   ]
  },
  {
   "cell_type": "markdown",
   "metadata": {},
   "source": []
  },
  {
   "cell_type": "code",
   "execution_count": 10,
   "metadata": {},
   "outputs": [
    {
     "data": {
      "text/plain": [
       "['shamaltajave@gmail.com']"
      ]
     },
     "execution_count": 10,
     "metadata": {},
     "output_type": "execute_result"
    }
   ],
   "source": [
    "text = \"\"\"MY mail id is shamaltajave@gmail.com and \n",
    "          my Mobile number is 9556417555 and \n",
    "          my alternate number is 830830444.\"\"\"\n",
    "list1 = re.findall('[A-Za-z@.]{10,25}',text)\n",
    "list1"
   ]
  },
  {
   "cell_type": "code",
   "execution_count": 11,
   "metadata": {},
   "outputs": [
    {
     "data": {
      "text/plain": [
       "['shamaltajave@gmail.com']"
      ]
     },
     "execution_count": 11,
     "metadata": {},
     "output_type": "execute_result"
    }
   ],
   "source": [
    "text = \"\"\"MY mail id is shamaltajave@gmail.com andmy Mobile number is 9556417555 and \n",
    "          my alternate number is 830830444. \"\"\"\n",
    "list1 = re.findall('[A-Za-z@.0-9]{11,22}',text)\n",
    "list1"
   ]
  },
  {
   "cell_type": "code",
   "execution_count": 12,
   "metadata": {},
   "outputs": [
    {
     "data": {
      "text/plain": [
       "['shamaltajave@gmail.com']"
      ]
     },
     "execution_count": 12,
     "metadata": {},
     "output_type": "execute_result"
    }
   ],
   "source": [
    "text = \"\"\"MY mail id is shamaltajave@gmail.com and \n",
    "          my Mobile number is 9556417555 and \n",
    "          my alternate number is 830830444. \"\"\"\n",
    "list1 = re.findall('[A-Za-z0-9.]{2,25}[@][a-z.]{1,20}',text)\n",
    "list1"
   ]
  },
  {
   "cell_type": "code",
   "execution_count": 13,
   "metadata": {},
   "outputs": [
    {
     "data": {
      "text/plain": [
       "['abcdefghij@gmail.com',\n",
       " 'abc1234_456@gmail.com',\n",
       " 'vaishnavi.shiledar@stymer.com']"
      ]
     },
     "execution_count": 13,
     "metadata": {},
     "output_type": "execute_result"
    }
   ],
   "source": [
    "text = '''I am Vaishnavi Jayant Shiledar\n",
    "           my mail is abcdefghij@gmail.com\n",
    "           my alternate mail id is abc1234_456@gmail.com\n",
    "           my corporate id is vaishnavi.shiledar@stymer.com,7709708941'''\n",
    "lst1 = re.findall('[a-z0-9_@.]{11,30}',text)\n",
    "lst1"
   ]
  },
  {
   "cell_type": "code",
   "execution_count": 14,
   "metadata": {},
   "outputs": [
    {
     "data": {
      "text/plain": [
       "['sarikakokate29@gmail.com']"
      ]
     },
     "execution_count": 14,
     "metadata": {},
     "output_type": "execute_result"
    }
   ],
   "source": [
    "email = \"my email id is sarikakokate29@gmail.com\"\n",
    "result = re.findall(\"[a-z]{12}[0-9]{2}[@]{1}[a-z]{5}[.]{1}[a-z]{3}\",email)\n",
    "result"
   ]
  },
  {
   "cell_type": "code",
   "execution_count": 15,
   "metadata": {},
   "outputs": [
    {
     "name": "stdout",
     "output_type": "stream",
     "text": [
      "['baburaogawande2225@mail.com']\n"
     ]
    }
   ],
   "source": [
    "text='''My mail ID is baburaogawande2225@mail.com\n",
    "my mobile number is 9764099659'''\n",
    "list1=re.findall('[A-Za-z@.1-9]{12,56}',text)\n",
    "print(list1)"
   ]
  },
  {
   "cell_type": "code",
   "execution_count": 16,
   "metadata": {},
   "outputs": [
    {
     "data": {
      "text/plain": [
       "['jadhavkanchan516@gmail']"
      ]
     },
     "execution_count": 16,
     "metadata": {},
     "output_type": "execute_result"
    }
   ],
   "source": [
    "txt='mail id jadhavkanchan516@gmail.com'\n",
    "list1=re.findall('[A-Za-z0-9]{2,20}[@][a-z]{1,30}',txt)\n",
    "list1"
   ]
  },
  {
   "cell_type": "code",
   "execution_count": 17,
   "metadata": {},
   "outputs": [
    {
     "name": "stdout",
     "output_type": "stream",
     "text": [
      "['sarikadumbare29@gmail.com', 'sarika.kokate@dypic.in']\n"
     ]
    }
   ],
   "source": [
    "text = \"\"\"my mail id is sarikadumbare29@gmail.com and my college mail id is sarika.kokate@dypic.in\"\"\"\n",
    "list1 = re.findall(\"[a-z0-9@.]{10,50}\",text)\n",
    "print(list1)"
   ]
  },
  {
   "cell_type": "code",
   "execution_count": 18,
   "metadata": {},
   "outputs": [
    {
     "name": "stdout",
     "output_type": "stream",
     "text": [
      "['bskharate@gmail.com', 'bhopalenilesh9999@gm', 'vishwajeet27ingole@g']\n"
     ]
    }
   ],
   "source": [
    "my = '''My name is Avinash \n",
    "and my email ID is bskharate@gmail.com\n",
    "Nilesh mail is bhopalenilesh9999@gmail.com\n",
    "and vishwa have vishwajeet27ingole@gmail.com'''\n",
    "import re\n",
    "mail = re.findall('[0-9A-Za-z@.]{11,20}',my)\n",
    "print(mail)"
   ]
  },
  {
   "cell_type": "code",
   "execution_count": 19,
   "metadata": {},
   "outputs": [
    {
     "name": "stdout",
     "output_type": "stream",
     "text": [
      "['bskharate@gmail.com', 'bhopalenilesh9999@gmail.com', 'vishwajeet27ingole@gmail.com', 'vaibhaodhon6446@gmail.com.', 'Apeksha.Kharate@gmail.com', 'pranjal1998@gmail.com', 'service3@theysohnindia.co.in']\n"
     ]
    }
   ],
   "source": [
    "my = '''My name is Avinash \n",
    "and my email ID is bskharate@gmail.com\n",
    "Nilesh mail is bhopalenilesh9999@gmail.com\n",
    "and vishwa have vishwajeet27ingole@gmail.com and vaibhav have \n",
    "vaibhaodhon6446@gmail.com. my sister have Apeksha.Kharate@gmail.com also pranjal have pranjal1998@gmail.com\n",
    "My official mail was service3@theysohnindia.co.in'''\n",
    "import re\n",
    "mail = re.findall('[0-9A-Za-z@.]{11,30}',my)\n",
    "print(mail)"
   ]
  },
  {
   "cell_type": "code",
   "execution_count": 20,
   "metadata": {},
   "outputs": [
    {
     "data": {
      "text/plain": [
       "['abcdefghij@gmail.com',\n",
       " 'abc1234_456@orkut.com',\n",
       " 'vaishnavi.shiledar@stymer.com',\n",
       " 'vaishnavi123@yahoo.co.in',\n",
       " 'vaishnavi.1234@rediffmail.com',\n",
       " 'Vaishnavi.1234@outlook.com']"
      ]
     },
     "execution_count": 20,
     "metadata": {},
     "output_type": "execute_result"
    }
   ],
   "source": [
    "text = '''I am Vaishnavi\n",
    "           my mail is abcdefghij@gmail.com\n",
    "           my alternate mail id is abc1234_456@orkut.com\n",
    "           my corporate id is vaishnavi.shiledar@stymer.com\n",
    "           Yahoo id : vaishnavi123@yahoo.co.in\n",
    "           Rediffmail id is vaishnavi.1234@rediffmail.com\n",
    "           outlook id is Vaishnavi.1234@outlook.com\n",
    "           My Contact details are 7755889966\n",
    "           my birthdate is 01/01/1997'''\n",
    "lst1 = re.findall('[a-zA-Z0-9_.@/]{11,30}',text)\n",
    "lst1"
   ]
  },
  {
   "cell_type": "code",
   "execution_count": 21,
   "metadata": {},
   "outputs": [
    {
     "data": {
      "text/plain": [
       "['ASDCT1234K', 'AZEPT0000P']"
      ]
     },
     "execution_count": 21,
     "metadata": {},
     "output_type": "execute_result"
    }
   ],
   "source": [
    "pancards = ''' PAN CARD numbers are:\n",
    "               ASDCT1234K\n",
    "               ZZFSEDGVG0\n",
    "               CDSTVCCR0K\n",
    "               SES00000HH\n",
    "               AZEPT0000P'''\n",
    "pans = re.findall('[A-Z]{5}[0-9]{4}[A-Z]{1}', pancards)\n",
    "pans"
   ]
  },
  {
   "cell_type": "code",
   "execution_count": 22,
   "metadata": {},
   "outputs": [
    {
     "data": {
      "text/plain": [
       "['1234 5678 9000', '5247 4412 3567', '1425 2522 3478']"
      ]
     },
     "execution_count": 22,
     "metadata": {},
     "output_type": "execute_result"
    }
   ],
   "source": [
    "adhar_nums = \"\"\"\n",
    "               1234 5678 90001\n",
    "               5247 4412 3567\n",
    "               15485 114 1240\n",
    "               1425 2522 3478\n",
    "               142 1452 24535 \"\"\"\n",
    "aadhar = re.findall('[0-9]{4} [0-9]{4} [0-9]{4}', adhar_nums)\n",
    "aadhar"
   ]
  },
  {
   "cell_type": "code",
   "execution_count": 23,
   "metadata": {},
   "outputs": [
    {
     "data": {
      "text/plain": [
       "['1234 5678 9000', '5247 4412 3567', '1425 2522 3478']"
      ]
     },
     "execution_count": 23,
     "metadata": {},
     "output_type": "execute_result"
    }
   ],
   "source": [
    "adhar_nums = \"\"\"\n",
    "               1234 5678 9000\n",
    "               5247 4412 3567\n",
    "               15485 114 1240\n",
    "               1425 2522 3478\n",
    "               142 1452 24535 \"\"\"\n",
    "aadhar = re.findall('[0-9]{4}[ ][0-9]{4}[ ][0-9]{4}', adhar_nums)\n",
    "aadhar"
   ]
  },
  {
   "cell_type": "code",
   "execution_count": 24,
   "metadata": {},
   "outputs": [],
   "source": [
    "text = \"\"\"20/09/2022 \n",
    "        21/09/2022\"\"\" #99/19/2000"
   ]
  },
  {
   "cell_type": "code",
   "execution_count": 25,
   "metadata": {},
   "outputs": [
    {
     "data": {
      "text/plain": [
       "['20/09/2022', '21/09/2022']"
      ]
     },
     "execution_count": 25,
     "metadata": {},
     "output_type": "execute_result"
    }
   ],
   "source": [
    "text = \"\"\"20/09/2022 \n",
    "        21/09/2022\"\"\" #99/19/2000\n",
    "date = re.findall('[0-9]{2}[/][0-9]{2}[/][0-9]{4}', text)\n",
    "date"
   ]
  },
  {
   "cell_type": "code",
   "execution_count": 26,
   "metadata": {},
   "outputs": [
    {
     "data": {
      "text/plain": [
       "['20/09/2022', '21/09/2022']"
      ]
     },
     "execution_count": 26,
     "metadata": {},
     "output_type": "execute_result"
    }
   ],
   "source": [
    "text = \"\"\"20/09/2022 \n",
    "        21/09/2022\"\"\" #99/19/2000\n",
    "date = re.findall('[0-9]{2}[/][0-9]{2}[/][0-9]{4}', text)\n",
    "date"
   ]
  },
  {
   "cell_type": "markdown",
   "metadata": {},
   "source": [
    "## Special Characters"
   ]
  },
  {
   "cell_type": "code",
   "execution_count": 27,
   "metadata": {},
   "outputs": [],
   "source": [
    "# [0-9], [A-Z][a-z]"
   ]
  },
  {
   "cell_type": "markdown",
   "metadata": {},
   "source": [
    "## \\d"
   ]
  },
  {
   "cell_type": "markdown",
   "metadata": {},
   "source": [
    "\\d >> [0-9] >> it is only varying for the digits 0-9"
   ]
  },
  {
   "cell_type": "code",
   "execution_count": 28,
   "metadata": {},
   "outputs": [
    {
     "data": {
      "text/plain": [
       "['1234 5678 9000', '5247 4412 3567', '1425 2522 3478']"
      ]
     },
     "execution_count": 28,
     "metadata": {},
     "output_type": "execute_result"
    }
   ],
   "source": [
    "adhar_nums = \"\"\"\n",
    "               1234 5678 9000\n",
    "               5247 4412 3567\n",
    "               15485 114 1240\n",
    "               1425 2522 3478\n",
    "               142 1452 24535 \"\"\"\n",
    "aadhar = re.findall('\\d{4} \\d{4} \\d{4}', adhar_nums)\n",
    "aadhar\n",
    "\n",
    "# re.findall(\"[0-9]{4}[ ][0-9]{4}[ ][0-9]{4}\",adhar_nums)"
   ]
  },
  {
   "cell_type": "markdown",
   "metadata": {},
   "source": [
    "## \\D"
   ]
  },
  {
   "cell_type": "markdown",
   "metadata": {},
   "source": [
    "\\D >> it takes everything except [0-9] >> It consider everything except digits [^0-9]"
   ]
  },
  {
   "cell_type": "code",
   "execution_count": 29,
   "metadata": {},
   "outputs": [
    {
     "name": "stdout",
     "output_type": "stream",
     "text": [
      "[' Hell', 'o eve', 'ryone', ', tod', 'ay we', ' are ', 'discu', 'ssing', ' abou', 't reg', 'ular ', 'expre', 'ssion', ' and ', 'today', '\"s da', 'te is', ' ', '/', '/', '. \\n  ', '     ', '    T', 'his o', 'ur ', 'th  @', 'topic', '.']\n"
     ]
    }
   ],
   "source": [
    "text = ''' Hello everyone, today we are discussing about regular expression and today\"s date is 04/03/2024. \n",
    "           This our 40th  @topic.'''\n",
    "data = re.findall('\\D{1,5}', text)\n",
    "print(data)"
   ]
  },
  {
   "cell_type": "markdown",
   "metadata": {},
   "source": [
    "## \\s"
   ]
  },
  {
   "cell_type": "code",
   "execution_count": 30,
   "metadata": {},
   "outputs": [
    {
     "ename": "SyntaxError",
     "evalue": "unexpected character after line continuation character (2238378092.py, line 1)",
     "output_type": "error",
     "traceback": [
      "\u001b[1;36m  Input \u001b[1;32mIn [30]\u001b[1;36m\u001b[0m\n\u001b[1;33m    \\s >>[ ] >> used for space only\u001b[0m\n\u001b[1;37m     ^\u001b[0m\n\u001b[1;31mSyntaxError\u001b[0m\u001b[1;31m:\u001b[0m unexpected character after line continuation character\n"
     ]
    }
   ],
   "source": [
    "\\s >>[ ] >> used for space only"
   ]
  },
  {
   "cell_type": "code",
   "execution_count": null,
   "metadata": {},
   "outputs": [],
   "source": [
    "text = ''' Hello everyone, today we are discussing about regular expression and today\"s date is 20/09/2022. \n",
    "           This our 40th topic.'''\n",
    "data = re.findall('\\s{1,5}', text)\n",
    "print(data)"
   ]
  },
  {
   "cell_type": "code",
   "execution_count": null,
   "metadata": {},
   "outputs": [],
   "source": [
    "adhar_nums = \"\"\"\n",
    "               1234 5678 9000\n",
    "               5247 4412 3567\n",
    "               15485 114 1240\n",
    "               1425 2522 3478\n",
    "               142 1452 24535 \"\"\"\n",
    "aadhar = re.findall('\\d{4}\\s\\d{4}\\s\\d{4}', adhar_nums)\n",
    "aadhar"
   ]
  },
  {
   "cell_type": "markdown",
   "metadata": {},
   "source": [
    "## \\S"
   ]
  },
  {
   "cell_type": "code",
   "execution_count": null,
   "metadata": {},
   "outputs": [],
   "source": [
    "\\S >> everything other than space"
   ]
  },
  {
   "cell_type": "code",
   "execution_count": null,
   "metadata": {},
   "outputs": [],
   "source": [
    "text = ''' Hello everyone, today we are discussing about regular expression and today\"s date is 20/09/2022. \n",
    "           This our 40th topic.'''\n",
    "data = re.findall('\\S{1,5}', text)\n",
    "print(data)"
   ]
  },
  {
   "cell_type": "markdown",
   "metadata": {},
   "source": [
    "## \\w"
   ]
  },
  {
   "cell_type": "code",
   "execution_count": null,
   "metadata": {},
   "outputs": [],
   "source": [
    "\\w >> [a-zA-Z0-9_] "
   ]
  },
  {
   "cell_type": "code",
   "execution_count": null,
   "metadata": {},
   "outputs": [],
   "source": [
    "text = ''' Hello everyone, today we are discussing about regular expression and today\"s date is 20/09/2022. \n",
    "           This our 40th topic.'''\n",
    "data = re.findall('\\w{1,5}', text)\n",
    "print(data)"
   ]
  },
  {
   "cell_type": "markdown",
   "metadata": {},
   "source": [
    "## \\W"
   ]
  },
  {
   "cell_type": "code",
   "execution_count": null,
   "metadata": {},
   "outputs": [],
   "source": [
    "\\W >> [^a-zA-Z0-9_] "
   ]
  },
  {
   "cell_type": "code",
   "execution_count": null,
   "metadata": {},
   "outputs": [],
   "source": [
    "text = ''' Hello everyone, today we are discussing about  @regular expression and today\"s date is 20/09/2022. \n",
    "           This our 40th topic $$.'''\n",
    "data = re.findall('\\W{2,5}', text)\n",
    "print(data)"
   ]
  },
  {
   "cell_type": "markdown",
   "metadata": {},
   "source": [
    "## \\b"
   ]
  },
  {
   "cell_type": "code",
   "execution_count": null,
   "metadata": {},
   "outputs": [],
   "source": [
    "\\b >> it check for the regex at the beginning and at the end as well.\n"
   ]
  },
  {
   "cell_type": "code",
   "execution_count": 13,
   "metadata": {},
   "outputs": [
    {
     "data": {
      "text/plain": [
       "['9556417555', '8308304448']"
      ]
     },
     "execution_count": 13,
     "metadata": {},
     "output_type": "execute_result"
    }
   ],
   "source": [
    "text = \"\"\"MY mail id is shamaltajave@gmail.com and \n",
    "          my Mobile number is 9556417555 and \n",
    "          my alternate number is 830830444857. \"\"\"\n",
    "list1 = re.findall('\\d{10}',text)\n",
    "list1"
   ]
  },
  {
   "cell_type": "code",
   "execution_count": null,
   "metadata": {},
   "outputs": [],
   "source": [
    "adhar_nums = \"\"\"\n",
    "               1234 5678 90005\n",
    "               5247 4412 3567\n",
    "               15485 114 1240\n",
    "               1425 2522 3478\n",
    "               142 1452 24535 \"\"\"\n",
    "aadhar = re.findall('\\d{4}\\s\\d{4}\\s\\d{4}', adhar_nums)\n",
    "aadhar"
   ]
  },
  {
   "cell_type": "code",
   "execution_count": null,
   "metadata": {},
   "outputs": [],
   "source": [
    "adhar_nums = \"\"\"\n",
    "               1234 5678 9000\n",
    "               5247 4412 3567\n",
    "               15485 114 1240\n",
    "               1425 2522 3478\n",
    "               142 1452 24535 \"\"\"\n",
    "aadhar = re.findall(r'\\b\\d{4}\\s\\d{4}\\s\\d{4}\\b', adhar_nums)\n",
    "aadhar"
   ]
  },
  {
   "cell_type": "code",
   "execution_count": null,
   "metadata": {},
   "outputs": [],
   "source": [
    "\\d >> [0-9]\n",
    "\\D >> [^0-9]\n",
    "\\s >> spaces only\n",
    "\\w >> [A-Za-z0-9_]\n",
    "\\W >> [^A-Za-z0-9_]\n",
    "\\b >>  Checkin for the Starting and ending of the regex."
   ]
  },
  {
   "cell_type": "code",
   "execution_count": null,
   "metadata": {},
   "outputs": [],
   "source": [
    "import re"
   ]
  },
  {
   "cell_type": "code",
   "execution_count": null,
   "metadata": {},
   "outputs": [],
   "source": [
    "text = '''I am Vaishnavi\n",
    "           my mail is abcdefghij@gmail.com\n",
    "           my alternate mail id is abc1234_456@orkut.com\n",
    "           my corporate id is vaishnavi.shiledar@stymer.com\n",
    "           Yahoo id : vaishnavi123@yahoo.co.in\n",
    "           Rediffmail id is vaishnavi.1234@rediffmail.com\n",
    "           outlook id is Vaishnavi.1234@outlook.com\n",
    "           My Contact details are 7755889966\n",
    "           my birthdate is 01/01/1997'''\n",
    "result=re.findall(\"\\w{1,30}@.\",text)\n",
    "print(result)"
   ]
  },
  {
   "cell_type": "code",
   "execution_count": null,
   "metadata": {},
   "outputs": [],
   "source": []
  }
 ],
 "metadata": {
  "kernelspec": {
   "display_name": "Python 3 (ipykernel)",
   "language": "python",
   "name": "python3"
  },
  "language_info": {
   "codemirror_mode": {
    "name": "ipython",
    "version": 3
   },
   "file_extension": ".py",
   "mimetype": "text/x-python",
   "name": "python",
   "nbconvert_exporter": "python",
   "pygments_lexer": "ipython3",
   "version": "3.9.12"
  }
 },
 "nbformat": 4,
 "nbformat_minor": 4
}
