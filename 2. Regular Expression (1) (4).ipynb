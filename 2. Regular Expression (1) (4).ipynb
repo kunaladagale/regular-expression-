{
 "cells": [
  {
   "cell_type": "markdown",
   "metadata": {},
   "source": [
    "findall >> returns list of all the elements which are matching with our regex.\n",
    "\\d >> [0-9]\n",
    "\\D >> [^0-9]\n",
    "\\s >> spaces >> [ ]\n",
    "\\S >> Other than spaces\n",
    "\\w >> [A-Za-z0-9_]\n",
    "\\W >> [^A-Za-z0-9_]\n",
    "\\b >> check for the beginning and ending of the regex"
   ]
  },
  {
   "cell_type": "markdown",
   "metadata": {},
   "source": [
    "## search()"
   ]
  },
  {
   "cell_type": "code",
   "execution_count": null,
   "metadata": {},
   "outputs": [],
   "source": [
    "# It searches for a match, and it returns an object of the first occurance only.\n",
    "# re.search(regex/pattern, text/string)"
   ]
  },
  {
   "cell_type": "code",
   "execution_count": 5,
   "metadata": {},
   "outputs": [
    {
     "data": {
      "text/plain": [
       "<re.Match object; span=(17, 27), match='9456712234'>"
      ]
     },
     "execution_count": 5,
     "metadata": {},
     "output_type": "execute_result"
    }
   ],
   "source": [
    "import re\n",
    "text = '''My mobile no. is 945671223434435 and \n",
    "          my alternate no. is 8458307575.'''\n",
    "mob = re.search('[0-9]{10}', text) #'\\d{10}'  # first occurance\n",
    "mob"
   ]
  },
  {
   "cell_type": "code",
   "execution_count": 4,
   "metadata": {},
   "outputs": [
    {
     "data": {
      "text/plain": [
       "['9456712234', '8458307575']"
      ]
     },
     "execution_count": 4,
     "metadata": {},
     "output_type": "execute_result"
    }
   ],
   "source": [
    "text = '''My mobile no. is 9456712234 and \n",
    "          my alternate no. is 8458307575.'''\n",
    "mob = re.findall('[0-9]{10}', text) #'\\d{10}'  # first occurance\n",
    "mob"
   ]
  },
  {
   "cell_type": "code",
   "execution_count": 6,
   "metadata": {},
   "outputs": [
    {
     "data": {
      "text/plain": [
       "(17, 27)"
      ]
     },
     "execution_count": 6,
     "metadata": {},
     "output_type": "execute_result"
    }
   ],
   "source": [
    "mob.span()"
   ]
  },
  {
   "cell_type": "code",
   "execution_count": 7,
   "metadata": {},
   "outputs": [
    {
     "data": {
      "text/plain": [
       "'9456712234'"
      ]
     },
     "execution_count": 7,
     "metadata": {},
     "output_type": "execute_result"
    }
   ],
   "source": [
    "mob.group()"
   ]
  },
  {
   "cell_type": "code",
   "execution_count": 8,
   "metadata": {},
   "outputs": [
    {
     "data": {
      "text/plain": [
       "17"
      ]
     },
     "execution_count": 8,
     "metadata": {},
     "output_type": "execute_result"
    }
   ],
   "source": [
    "mob.start()"
   ]
  },
  {
   "cell_type": "code",
   "execution_count": 9,
   "metadata": {},
   "outputs": [
    {
     "data": {
      "text/plain": [
       "27"
      ]
     },
     "execution_count": 9,
     "metadata": {},
     "output_type": "execute_result"
    }
   ],
   "source": [
    "mob.end()"
   ]
  },
  {
   "cell_type": "code",
   "execution_count": null,
   "metadata": {},
   "outputs": [],
   "source": [
    "text = '''My mobile no. is 94567122346576 and \n",
    "          my alternate no. is 8458307575.'''\n",
    "mob = re.search('\\d{10}', text) #'\\d{10}' [0-9]\n",
    "mob"
   ]
  },
  {
   "cell_type": "markdown",
   "metadata": {},
   "source": [
    "## match()"
   ]
  },
  {
   "cell_type": "markdown",
   "metadata": {},
   "source": [
    "Match also does the same work what serach is doing, like it also provide the object only. \n",
    "but it only checks for the first position or first index of the text or string."
   ]
  },
  {
   "cell_type": "code",
   "execution_count": 10,
   "metadata": {},
   "outputs": [
    {
     "name": "stdout",
     "output_type": "stream",
     "text": [
      "None\n"
     ]
    }
   ],
   "source": [
    "text = '''My mobile no. is 9456712241 and \n",
    "          my alternate no. is 8458307575.'''\n",
    "mob = re.match('[0-9]{10}', text) #'\\d{10}'\n",
    "print(mob)"
   ]
  },
  {
   "cell_type": "code",
   "execution_count": 11,
   "metadata": {},
   "outputs": [
    {
     "name": "stdout",
     "output_type": "stream",
     "text": [
      "<re.Match object; span=(0, 10), match='9456712241'>\n"
     ]
    }
   ],
   "source": [
    "text = '''9456712241 My mobile no. is  and \n",
    "          my alternate no. is 8458307575.'''\n",
    "mob = re.match('[0-9]{10}', text) #'\\d{10}'\n",
    "print(mob)"
   ]
  },
  {
   "cell_type": "code",
   "execution_count": 12,
   "metadata": {},
   "outputs": [
    {
     "name": "stdout",
     "output_type": "stream",
     "text": [
      "<re.Match object; span=(0, 2), match='My'>\n"
     ]
    }
   ],
   "source": [
    "text = '''My mobile no. is 9456712241 and \n",
    "          my alternate no. is 8458307575.'''\n",
    "mob = re.match('[A-Za-z]{2}', text) #'\\d{10}'\n",
    "print(mob)"
   ]
  },
  {
   "cell_type": "code",
   "execution_count": 13,
   "metadata": {},
   "outputs": [
    {
     "name": "stdout",
     "output_type": "stream",
     "text": [
      "<re.Match object; span=(0, 10), match='9456712241'>\n"
     ]
    }
   ],
   "source": [
    "text = '''9456712241 My mobile no. is 9456712241 and \n",
    "          my alternate no. is 8458307575.'''\n",
    "mob = re.match('[0-9]{10}', text) #'\\d{10}'\n",
    "print(mob)"
   ]
  },
  {
   "cell_type": "code",
   "execution_count": 14,
   "metadata": {
    "scrolled": true
   },
   "outputs": [
    {
     "name": "stdout",
     "output_type": "stream",
     "text": [
      "Match not found.\n"
     ]
    }
   ],
   "source": [
    "text = '''My mobile no. is 9456712241 and \n",
    "          my alternate no. is 8458307575.'''\n",
    "mob = re.match('[0-9]{10}', text)\n",
    "\n",
    "if mob:\n",
    "    print('Match found', mob.span())\n",
    "else:\n",
    "    print('Match not found.')"
   ]
  },
  {
   "cell_type": "markdown",
   "metadata": {},
   "source": [
    "que - i want to find the string which conatins good word at the first postion if no then replace it with the good words \n",
    "\n",
    "list1 = [\"Good morning\", \"Hiii how are you\"]"
   ]
  },
  {
   "cell_type": "code",
   "execution_count": 15,
   "metadata": {},
   "outputs": [
    {
     "data": {
      "text/plain": [
       "<re.Match object; span=(0, 2), match='My'>"
      ]
     },
     "execution_count": 15,
     "metadata": {},
     "output_type": "execute_result"
    }
   ],
   "source": [
    "text = '''My mobile no. is 9456712241 and \n",
    "          my alternate no. is 8458307575.'''\n",
    "mob = re.match('My', text)\n",
    "mob"
   ]
  },
  {
   "cell_type": "code",
   "execution_count": 16,
   "metadata": {},
   "outputs": [
    {
     "data": {
      "text/plain": [
       "<re.Match object; span=(0, 2), match='My'>"
      ]
     },
     "execution_count": 16,
     "metadata": {},
     "output_type": "execute_result"
    }
   ],
   "source": [
    "text = '''My mobile no. is 9456712241 and \n",
    "          my alternate no. is 8458307575.'''\n",
    "mob = re.match('[A-Za-z]{2}', text)\n",
    "mob"
   ]
  },
  {
   "cell_type": "code",
   "execution_count": 17,
   "metadata": {},
   "outputs": [
    {
     "data": {
      "text/plain": [
       "(0, 2)"
      ]
     },
     "execution_count": 17,
     "metadata": {},
     "output_type": "execute_result"
    }
   ],
   "source": [
    "mob.span()"
   ]
  },
  {
   "cell_type": "code",
   "execution_count": 18,
   "metadata": {},
   "outputs": [
    {
     "data": {
      "text/plain": [
       "'My'"
      ]
     },
     "execution_count": 18,
     "metadata": {},
     "output_type": "execute_result"
    }
   ],
   "source": [
    "mob.group()"
   ]
  },
  {
   "cell_type": "markdown",
   "metadata": {},
   "source": [
    "## sub"
   ]
  },
  {
   "cell_type": "markdown",
   "metadata": {},
   "source": [
    "It is used to replace the format or pattern which matches our regex.\n",
    "re.sub(regex, 'substring', text/string)"
   ]
  },
  {
   "cell_type": "code",
   "execution_count": 20,
   "metadata": {},
   "outputs": [
    {
     "data": {
      "text/plain": [
       "'java is programming language'"
      ]
     },
     "execution_count": 20,
     "metadata": {},
     "output_type": "execute_result"
    }
   ],
   "source": [
    "str1 = \"python is programming language\"\n",
    "str1.replace(\"python\",\"java\")"
   ]
  },
  {
   "cell_type": "code",
   "execution_count": 21,
   "metadata": {
    "scrolled": true
   },
   "outputs": [
    {
     "data": {
      "text/plain": [
       "'Java is a user friendly language.'"
      ]
     },
     "execution_count": 21,
     "metadata": {},
     "output_type": "execute_result"
    }
   ],
   "source": [
    "string = 'python is a user friendly language.'\n",
    "string.replace('python', 'Java')\n"
   ]
  },
  {
   "cell_type": "code",
   "execution_count": 22,
   "metadata": {},
   "outputs": [
    {
     "data": {
      "text/plain": [
       "'python is a user friendly language.'"
      ]
     },
     "execution_count": 22,
     "metadata": {},
     "output_type": "execute_result"
    }
   ],
   "source": [
    "string"
   ]
  },
  {
   "cell_type": "code",
   "execution_count": 23,
   "metadata": {
    "scrolled": true
   },
   "outputs": [
    {
     "data": {
      "text/plain": [
       "'Java Java Java Java JavaJava JavaJava.'"
      ]
     },
     "execution_count": 23,
     "metadata": {},
     "output_type": "execute_result"
    }
   ],
   "source": [
    "re.sub('[a-z]{1,6}', 'Java', string)"
   ]
  },
  {
   "cell_type": "code",
   "execution_count": 25,
   "metadata": {},
   "outputs": [
    {
     "data": {
      "text/plain": [
       "'python is a user friendly language.'"
      ]
     },
     "execution_count": 25,
     "metadata": {},
     "output_type": "execute_result"
    }
   ],
   "source": [
    "string"
   ]
  },
  {
   "cell_type": "code",
   "execution_count": 24,
   "metadata": {},
   "outputs": [
    {
     "data": {
      "text/plain": [
       "'java is a user javaly javage.'"
      ]
     },
     "execution_count": 24,
     "metadata": {},
     "output_type": "execute_result"
    }
   ],
   "source": [
    "re.sub('[a-z]{6}','java',string)"
   ]
  },
  {
   "cell_type": "code",
   "execution_count": 26,
   "metadata": {},
   "outputs": [
    {
     "data": {
      "text/plain": [
       "'Java is a user friendly language Java.'"
      ]
     },
     "execution_count": 26,
     "metadata": {},
     "output_type": "execute_result"
    }
   ],
   "source": [
    "string = 'python is a user friendly language python.'\n",
    "re.sub('python', 'Java', string)"
   ]
  },
  {
   "cell_type": "code",
   "execution_count": 27,
   "metadata": {},
   "outputs": [
    {
     "data": {
      "text/plain": [
       "'Java is a user Javaly Javage.'"
      ]
     },
     "execution_count": 27,
     "metadata": {},
     "output_type": "execute_result"
    }
   ],
   "source": [
    "string = 'python is a user friendly language.'\n",
    "re.sub('[a-z]{6}', 'Java', string)"
   ]
  },
  {
   "cell_type": "code",
   "execution_count": 28,
   "metadata": {},
   "outputs": [
    {
     "data": {
      "text/plain": [
       "'Java is a user friendly language.'"
      ]
     },
     "execution_count": 28,
     "metadata": {},
     "output_type": "execute_result"
    }
   ],
   "source": [
    "string = 'python is a user friendly language.'\n",
    "re.sub(r'\\bp[a-z]{5}', 'Java', string) # legth which we provide in {} is specific for the pattern which we mention in the []."
   ]
  },
  {
   "cell_type": "code",
   "execution_count": 29,
   "metadata": {},
   "outputs": [
    {
     "data": {
      "text/plain": [
       "'Java is a user friendly language.'"
      ]
     },
     "execution_count": 29,
     "metadata": {},
     "output_type": "execute_result"
    }
   ],
   "source": [
    "string = 'python is a user friendly language.'\n",
    "re.sub(r'[a-z]{5}n\\b', 'Java', string)"
   ]
  },
  {
   "cell_type": "code",
   "execution_count": 30,
   "metadata": {},
   "outputs": [
    {
     "data": {
      "text/plain": [
       "'java is a user friendly language.'"
      ]
     },
     "execution_count": 30,
     "metadata": {},
     "output_type": "execute_result"
    }
   ],
   "source": [
    "string = 'python is a user friendly language.'\n",
    "re.sub(r'\\bp[a-z]{5}',\"java\",string)"
   ]
  },
  {
   "cell_type": "code",
   "execution_count": 34,
   "metadata": {},
   "outputs": [
    {
     "data": {
      "text/plain": [
       "'java is a user friendly language.'"
      ]
     },
     "execution_count": 34,
     "metadata": {},
     "output_type": "execute_result"
    }
   ],
   "source": [
    "string = 'python is a user friendly language.'\n",
    "re.sub(r'\\bp[a-z]{4}n\\b',\"java\",string)"
   ]
  },
  {
   "cell_type": "code",
   "execution_count": 32,
   "metadata": {},
   "outputs": [
    {
     "data": {
      "text/plain": [
       "'java is a user friendly language.'"
      ]
     },
     "execution_count": 32,
     "metadata": {},
     "output_type": "execute_result"
    }
   ],
   "source": [
    "re.sub(\"python\",\"java\",string)"
   ]
  },
  {
   "cell_type": "code",
   "execution_count": null,
   "metadata": {},
   "outputs": [],
   "source": [
    "string = 'python is a user friendly language.'\n",
    "re.sub(r'\\bp[a-z]{4}n\\b', 'Java', string)"
   ]
  },
  {
   "cell_type": "code",
   "execution_count": 35,
   "metadata": {},
   "outputs": [
    {
     "data": {
      "text/plain": [
       "'python is a user friendly language. today is **/**/****.'"
      ]
     },
     "execution_count": 35,
     "metadata": {},
     "output_type": "execute_result"
    }
   ],
   "source": [
    "string = 'python is a user friendly language. today is 21/09/2022.'\n",
    "re.sub('\\d', '*', string)"
   ]
  },
  {
   "cell_type": "code",
   "execution_count": 40,
   "metadata": {},
   "outputs": [
    {
     "data": {
      "text/plain": [
       "'my pan number is *DJLPK******P'"
      ]
     },
     "execution_count": 40,
     "metadata": {},
     "output_type": "execute_result"
    }
   ],
   "source": [
    "str1 = \"my pan number is 4DJLPK026678P\"\n",
    "re.sub('\\d',\"*\",str1)   # 0268 == IT AS A ONE GROUP"
   ]
  },
  {
   "cell_type": "markdown",
   "metadata": {},
   "source": [
    "## finditer"
   ]
  },
  {
   "cell_type": "code",
   "execution_count": null,
   "metadata": {},
   "outputs": [],
   "source": [
    "Whatever we get with the help of findall, it gives objects of the same."
   ]
  },
  {
   "cell_type": "code",
   "execution_count": null,
   "metadata": {},
   "outputs": [],
   "source": [
    "text = '''My mobile no. is 9456712241 and \n",
    "          my alternate no. is 8458307575.'''\n",
    "mob = re.findall('[0-9]{10}', text)\n",
    "print(mob)"
   ]
  },
  {
   "cell_type": "code",
   "execution_count": null,
   "metadata": {},
   "outputs": [],
   "source": [
    "text = '''My mobile no. is 9456712241 and \n",
    "          my alternate no. is 8458307575,7709708941'''\n",
    "mob = re.finditer('[0-9]{10}', text)\n",
    "l1 = list(mob)\n",
    "print(l1)\n",
    "type(l1)"
   ]
  },
  {
   "cell_type": "markdown",
   "metadata": {},
   "source": [
    "findall >> returns list of all the elements which are matching with our regex.\n",
    "search  >> find out the matching pattern and returns the object of first occurance.\n",
    "match   >> It checks the matching pattern at the first position or first index of the text. \n",
    "sub     >> replace the matching pattern with our regex with provided substring.\n",
    "finditer>> returns objects for all matching patterns."
   ]
  },
  {
   "cell_type": "markdown",
   "metadata": {},
   "source": [
    "## Metacharacters"
   ]
  },
  {
   "cell_type": "code",
   "execution_count": null,
   "metadata": {},
   "outputs": [],
   "source": [
    "Characters which are with the speacial meaning."
   ]
  },
  {
   "cell_type": "markdown",
   "metadata": {},
   "source": [
    "## +"
   ]
  },
  {
   "cell_type": "code",
   "execution_count": null,
   "metadata": {},
   "outputs": [],
   "source": [
    "+ >> one or more occurances"
   ]
  },
  {
   "cell_type": "code",
   "execution_count": null,
   "metadata": {
    "scrolled": true
   },
   "outputs": [],
   "source": [
    "string = 'Python and Data science   '\n",
    "matches = re.findall('[ ]+', string)\n",
    "matches"
   ]
  },
  {
   "cell_type": "code",
   "execution_count": null,
   "metadata": {},
   "outputs": [],
   "source": [
    "string = 'Python and Data science   '\n",
    "matches = re.findall('\\s+', string)\n",
    "matches"
   ]
  },
  {
   "cell_type": "code",
   "execution_count": null,
   "metadata": {},
   "outputs": [],
   "source": [
    "string = 'python and Data science sccccience pythonn pythonnnnnnn,scienceeeeeeee,sciiiiiiience'\n",
    "matches = re.findall('sci+ence+', string) # mandetory one 'n' and more than n is also acceptable.\n",
    "matches"
   ]
  },
  {
   "cell_type": "code",
   "execution_count": null,
   "metadata": {},
   "outputs": [],
   "source": [
    "string = 'python and Data science pythonn pytho Dataaa '\n",
    "matches = re.findall('Data+', string) # mandetory one 'n' and more than n is also acceptable.\n",
    "matches"
   ]
  },
  {
   "cell_type": "code",
   "execution_count": null,
   "metadata": {},
   "outputs": [],
   "source": [
    "string = 'python and Data science pythonnnnn0 pytho'\n",
    "matches = re.findall('python+', string) # mandetory one 'n' and more than n is also acceptable.\n",
    "matches"
   ]
  },
  {
   "cell_type": "markdown",
   "metadata": {},
   "source": [
    "# *"
   ]
  },
  {
   "cell_type": "code",
   "execution_count": null,
   "metadata": {},
   "outputs": [],
   "source": [
    "#* >> zero or more occurances \n",
    "######it just takes only zero and more occurance of indexing means we can substract last character from the string or\n",
    "#we can add more characters in the sring"
   ]
  },
  {
   "cell_type": "code",
   "execution_count": null,
   "metadata": {
    "scrolled": true
   },
   "outputs": [],
   "source": [
    "string = 'python and Data science pythonn pytho,pyt'\n",
    "matches = re.findall('python*', string) # pytho... n \n",
    "matches"
   ]
  },
  {
   "cell_type": "code",
   "execution_count": null,
   "metadata": {},
   "outputs": [],
   "source": [
    "string = 'pyth and Data science pythhh pyt'\n",
    "matches = re.findall('pyth*', string) # pytho... h\n",
    "matches"
   ]
  },
  {
   "cell_type": "code",
   "execution_count": null,
   "metadata": {},
   "outputs": [],
   "source": []
  },
  {
   "cell_type": "code",
   "execution_count": null,
   "metadata": {},
   "outputs": [],
   "source": [
    "string = 'python and Data science pythonn pytho#'\n",
    "matches = re.findall('python*', string) # pytho... n\n",
    "matches"
   ]
  },
  {
   "cell_type": "markdown",
   "metadata": {},
   "source": [
    "# ."
   ]
  },
  {
   "cell_type": "code",
   "execution_count": null,
   "metadata": {},
   "outputs": [],
   "source": [
    "any character except new line\n",
    "It accepts all the characters including spaces and also special characters and even digits as well."
   ]
  },
  {
   "cell_type": "code",
   "execution_count": null,
   "metadata": {},
   "outputs": [],
   "source": [
    "string = 'python and Data science pythonn pytho# pytkh pytcg'\n",
    "matches = re.findall('py.', string) # py\n",
    "matches"
   ]
  },
  {
   "cell_type": "code",
   "execution_count": null,
   "metadata": {},
   "outputs": [],
   "source": [
    "string = 'python and Data science pythonn pytho# pyt5h pyt$cg pyt '\n",
    "matches = re.findall('pyt.', string) # pyt \n",
    "matches"
   ]
  },
  {
   "cell_type": "code",
   "execution_count": null,
   "metadata": {},
   "outputs": [],
   "source": [
    "string = '''python and Data science pyt\n",
    "          . onn pyt_ho# pyt5h pytcg'''\n",
    "matches = re.findall('pyt.', string) # pyt.\n",
    "matches"
   ]
  },
  {
   "cell_type": "code",
   "execution_count": null,
   "metadata": {},
   "outputs": [],
   "source": [
    "string = '''python and Data \n",
    "            science pyt. onn pyt_ho# pyt5h pytcg'''\n",
    "matches = re.findall('pyt.', string) # pyt.\n",
    "matches"
   ]
  },
  {
   "cell_type": "code",
   "execution_count": null,
   "metadata": {},
   "outputs": [],
   "source": [
    "string = '''python and Data science pyt. onn pyt_ho# pyt5h pytcg'''\n",
    "matches = re.findall('pyt.', string) # pyt.\n",
    "matches"
   ]
  },
  {
   "cell_type": "markdown",
   "metadata": {},
   "source": [
    "## ?"
   ]
  },
  {
   "cell_type": "code",
   "execution_count": null,
   "metadata": {},
   "outputs": [],
   "source": [
    "everything before ? has to match and it allows zero or one occurance."
   ]
  },
  {
   "cell_type": "code",
   "execution_count": null,
   "metadata": {},
   "outputs": [],
   "source": [
    "string = 'python and Data science pythonn pytho# pytkh pytcg py.'\n",
    "matches = re.findall('pyt', string) # py\n",
    "matches"
   ]
  },
  {
   "cell_type": "code",
   "execution_count": null,
   "metadata": {},
   "outputs": [],
   "source": [
    "string = 'python and Data science pythonn pytho# pytkh pytcg py p'\n",
    "matches = re.findall('pyt?', string) # py is mandetory.\n",
    "matches\n"
   ]
  },
  {
   "cell_type": "markdown",
   "metadata": {},
   "source": [
    "# ^ Startswith"
   ]
  },
  {
   "cell_type": "code",
   "execution_count": null,
   "metadata": {},
   "outputs": [],
   "source": [
    "string = 'python and Data science pythonn pytho# pytkh pytcg py.'\n",
    "matches = re.findall('^p', string) # py is mandetory.\n",
    "matches"
   ]
  },
  {
   "cell_type": "code",
   "execution_count": null,
   "metadata": {},
   "outputs": [],
   "source": [
    "string = 'python and Data science pythonn pytho# pytkh pytcg py.'\n",
    "matches = re.findall('^p[a-z]{1,6}', string) # py is mandetory.\n",
    "matches"
   ]
  },
  {
   "cell_type": "code",
   "execution_count": null,
   "metadata": {},
   "outputs": [],
   "source": [
    "string = 'python and Data science pythonn pytho# pytkh pytcg py.'\n",
    "matches = re.findall('^i[a-z]{1,10}', string) # py is mandetory.\n",
    "matches"
   ]
  },
  {
   "cell_type": "code",
   "execution_count": null,
   "metadata": {},
   "outputs": [],
   "source": [
    "string = '    python and Data science pythonn pytho# pytkh pytcg py.'\n",
    "matches = re.findall('^[ ]{1,6}', string) # py is mandetory.\n",
    "matches"
   ]
  },
  {
   "cell_type": "markdown",
   "metadata": {},
   "source": [
    "# $ endswith"
   ]
  },
  {
   "cell_type": "code",
   "execution_count": null,
   "metadata": {},
   "outputs": [],
   "source": [
    "string = ' python and Data science pythonn pytho# pytkh pytcg py.'\n",
    "matches = re.findall('.$', string) # py is mandetory.\n",
    "matches"
   ]
  },
  {
   "cell_type": "code",
   "execution_count": null,
   "metadata": {},
   "outputs": [],
   "source": [
    "string = ' python and Data science pythonn pytho# pytkh pytcg py'\n",
    "matches = re.findall('y$', string) # py is mandetory.\n",
    "matches"
   ]
  },
  {
   "cell_type": "code",
   "execution_count": null,
   "metadata": {},
   "outputs": [],
   "source": [
    "string = 'http://localhost:8888/notebooks/00_23rd%20July/40.%20Regular%20Expression/2.%20Regular%20Expression.ipynb'\n",
    "matches = re.findall('.ipynb$', string) \n",
    "matches\n"
   ]
  },
  {
   "cell_type": "markdown",
   "metadata": {},
   "source": [
    "## [ ]"
   ]
  },
  {
   "cell_type": "code",
   "execution_count": null,
   "metadata": {},
   "outputs": [],
   "source": [
    "To define the set of characters or numbers\n",
    "[0-9]\n",
    "[a-zA-Z0-9]"
   ]
  },
  {
   "cell_type": "markdown",
   "metadata": {},
   "source": [
    "## { }"
   ]
  },
  {
   "cell_type": "code",
   "execution_count": null,
   "metadata": {},
   "outputs": [],
   "source": [
    "To define the range"
   ]
  },
  {
   "cell_type": "markdown",
   "metadata": {},
   "source": [
    "## |"
   ]
  },
  {
   "cell_type": "code",
   "execution_count": null,
   "metadata": {},
   "outputs": [],
   "source": [
    "It works like or"
   ]
  },
  {
   "cell_type": "markdown",
   "metadata": {},
   "source": [
    "Revistion :-\n",
    "    re :-\n",
    "fuctions of re\n",
    "1)finall()   :-it gives us the list of matching regex\n",
    "2) search()   :- it gives output in object form finding only first occurance of regex\n",
    "3) match      :- it gives output in object form finding only first position or first indexing of regex \n",
    "4) sub ()     :- it is used to replace the old string to the new string which matches our regex\n",
    "5)finditer()  :- it works same as findall but output is in the object form \n",
    "\n",
    "\n",
    "metacharachters:-\n",
    "+     One or more occurance   \n",
    "*     zero or more occurance\n",
    ".     it takes anythig after the character except new line\n",
    "?      before\n",
    "^      starts with\n",
    "$      endswith \n",
    "[]     to define a set of charachters or number\n",
    "{}     length of range\n",
    "|      it is like a or function "
   ]
  }
 ],
 "metadata": {
  "kernelspec": {
   "display_name": "Python 3 (ipykernel)",
   "language": "python",
   "name": "python3"
  },
  "language_info": {
   "codemirror_mode": {
    "name": "ipython",
    "version": 3
   },
   "file_extension": ".py",
   "mimetype": "text/x-python",
   "name": "python",
   "nbconvert_exporter": "python",
   "pygments_lexer": "ipython3",
   "version": "3.11.5"
  }
 },
 "nbformat": 4,
 "nbformat_minor": 4
}
